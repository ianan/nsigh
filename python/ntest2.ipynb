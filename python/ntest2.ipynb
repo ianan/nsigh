{
 "cells": [
  {
   "cell_type": "markdown",
   "metadata": {},
   "source": [
    "**Warning** Work in progress notebook - only for testing purposes only of sunpy and nustar_pysolar"
   ]
  },
  {
   "cell_type": "code",
   "execution_count": 1,
   "metadata": {},
   "outputs": [],
   "source": [
    "from astropy.io import fits\n",
    "import importlib\n",
    "import warnings\n",
    "warnings.simplefilter('ignore')\n",
    "\n",
    "import nustar_pysolar as nustar\n"
   ]
  },
  {
   "cell_type": "code",
   "execution_count": 2,
   "metadata": {},
   "outputs": [],
   "source": [
    "dirin=''\n",
    "infile = 'nu90410111001A06_cl_sunpos.evt'\n",
    "\n",
    "# Load in the evt\n",
    "hdulist = fits.open(dirin+infile)\n",
    "evtdata=hdulist[1].data\n",
    "hdr = hdulist[1].header\n",
    "hdulist.close()"
   ]
  },
  {
   "cell_type": "code",
   "execution_count": 3,
   "metadata": {},
   "outputs": [
    {
     "name": "stdout",
     "output_type": "stream",
     "text": [
      "0 26\n"
     ]
    }
   ],
   "source": [
    "print(evtdata['grade'].min(),evtdata['grade'].max())"
   ]
  },
  {
   "cell_type": "code",
   "execution_count": 4,
   "metadata": {},
   "outputs": [
    {
     "name": "stdout",
     "output_type": "stream",
     "text": [
      "No bad pix or grade filter\n",
      "9442 0 26\n",
      "No grade filter\n",
      "9340 0 26\n",
      "No bad pix filter\n",
      "9304 0 0\n",
      "9203 0 0\n"
     ]
    }
   ],
   "source": [
    "# import ns_filter\n",
    "# importlib.reload(ns_filter)\n",
    "\n",
    "# evtflt=ns_filter.event_filter(evtdata,no_grade_filter=True,no_bad_pix_filter=True,energy_low=0, energy_high=5000)\n",
    "evtflt=nustar.filter.event_filter(evtdata,no_grade_filter=True,no_bad_pix_filter=True,energy_low=0, energy_high=5000)\n",
    "print('No bad pix or grade filter')\n",
    "print(len(evtflt['grade']),evtflt['grade'].min(),evtflt['grade'].max())\n",
    "\n",
    "evtflt=nustar.filter.event_filter(evtdata,no_grade_filter=True,energy_low=0, energy_high=5000)\n",
    "print('No grade filter')\n",
    "print(len(evtflt['grade']),evtflt['grade'].min(),evtflt['grade'].max())\n",
    "\n",
    "evtflt=nustar.filter.event_filter(evtdata,no_bad_pix_filter=True,energy_low=0, energy_high=5000)\n",
    "print('No bad pix filter')\n",
    "print(len(evtflt['grade']),evtflt['grade'].min(),evtflt['grade'].max())\n",
    "\n",
    "evtflt=nustar.filter.event_filter(evtdata,energy_low=0, energy_high=5000)\n",
    "print(len(evtflt['grade']),evtflt['grade'].min(),evtflt['grade'].max())"
   ]
  },
  {
   "cell_type": "code",
   "execution_count": null,
   "metadata": {},
   "outputs": [],
   "source": []
  },
  {
   "cell_type": "code",
   "execution_count": null,
   "metadata": {},
   "outputs": [],
   "source": []
  }
 ],
 "metadata": {
  "kernelspec": {
   "display_name": "Python 3",
   "language": "python",
   "name": "python3"
  },
  "language_info": {
   "codemirror_mode": {
    "name": "ipython",
    "version": 3
   },
   "file_extension": ".py",
   "mimetype": "text/x-python",
   "name": "python",
   "nbconvert_exporter": "python",
   "pygments_lexer": "ipython3",
   "version": "3.8.3"
  }
 },
 "nbformat": 4,
 "nbformat_minor": 4
}
