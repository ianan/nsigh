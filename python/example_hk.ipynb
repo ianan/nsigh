{
 "cells": [
  {
   "cell_type": "markdown",
   "metadata": {},
   "source": [
    "A code example showing how to load NuSTAR hk files - livetime and CHU\n",
    "\n",
    "This might not be the best way of handling time series (??) or time formats (here doing astropytime to datetime to matplotdates....)"
   ]
  },
  {
   "cell_type": "code",
   "execution_count": 1,
   "metadata": {},
   "outputs": [],
   "source": [
    "from astropy.io import fits\n",
    "import numpy as np\n",
    "import astropy.time\n",
    "import astropy.units as u\n",
    "import matplotlib\n",
    "import matplotlib.pyplot as plt\n",
    "%matplotlib inline\n",
    "\n",
    "import warnings\n",
    "warnings.simplefilter('ignore')\n",
    "\n",
    "dirin=''\n",
    "livefile = 'nu90410111001A_fpm.hk'\n",
    "chufile= 'nu90410111001_chu123.fits'"
   ]
  },
  {
   "cell_type": "code",
   "execution_count": 2,
   "metadata": {},
   "outputs": [],
   "source": [
    "# Setup the font used for plotting\n",
    "matplotlib.rcParams['font.sans-serif'] = \"Arial\"\n",
    "matplotlib.rcParams['font.family'] = \"sans-serif\"\n",
    "matplotlib.rcParams['font.size'] = 18"
   ]
  },
  {
   "cell_type": "code",
   "execution_count": 3,
   "metadata": {},
   "outputs": [
    {
     "name": "stdout",
     "output_type": "stream",
     "text": [
      "['TIME', 'FRAME24', 'SHLDLO', 'SHLDHI', 'LIVETIME_RAW', 'LIVETIME', 'EVTIME', 'NEV', 'NACCEPT', 'NREJECT', 'NCZT0_A', 'NCZT1_A', 'NCZT2_A', 'NCZT3_A', 'NSHLO_A', 'NSHHI_A', 'NUPTRIG_A', 'NTPTRIG_A', 'NCZT0_R', 'NCZT1_R', 'NCZT2_R', 'NCZT3_R', 'NSHLO_R', 'NSHHI_R', 'NUPTRIG_R', 'NTPTRIG_R', 'NCEV', 'NZERO']\n"
     ]
    }
   ],
   "source": [
    "# Load in the livetime file\n",
    "llist = fits.open(dirin+livefile)\n",
    "# llist.info()\n",
    "ldata=llist[1].data\n",
    "lhdr = llist[1].header\n",
    "\n",
    "# What are the column names of the livetime file (ldata) ?\n",
    "print(llist[1].columns.names)\n",
    "\n",
    "llist.close()"
   ]
  },
  {
   "cell_type": "code",
   "execution_count": 4,
   "metadata": {},
   "outputs": [
    {
     "name": "stdout",
     "output_type": "stream",
     "text": [
      "['2018-09-28T18:47:48.000' '2018-09-28T18:47:49.000'\n",
      " '2018-09-28T18:47:50.000' '2018-09-28T18:47:51.000'\n",
      " '2018-09-28T18:47:52.000' '2018-09-28T18:47:53.000'\n",
      " '2018-09-28T18:47:54.000' '2018-09-28T18:47:55.000'\n",
      " '2018-09-28T18:47:56.000' '2018-09-28T18:47:57.000']\n",
      "0.6917553806919711\n"
     ]
    }
   ],
   "source": [
    "mjdref=astropy.time.Time(lhdr['mjdrefi'],format='mjd')\n",
    "ltims=astropy.time.Time(mjdref+ldata['time']*u.s,format='mjd')\n",
    "print(ltims.isot[0:10])\n",
    "\n",
    "# Convert to format matplotlib can handle\n",
    "# So going astropytime -> datetime -> matplotlibdates\n",
    "dates = matplotlib.dates.date2num(ltims.datetime)\n",
    "\n",
    "# Not that the Livetime fraction and in seconds is the same thing \n",
    "# here under 'livetime' as the time binning is 1sec\n",
    "# plt.plot(ldata['livetime'])\n",
    "print(ldata['livetime'].mean())"
   ]
  },
  {
   "cell_type": "code",
   "execution_count": 5,
   "metadata": {},
   "outputs": [
    {
     "data": {
      "image/png": "[encoded data removed]",
      "text/plain": [
       "<Figure size 864x432 with 1 Axes>"
      ]
     },
     "metadata": {
      "needs_background": "light"
     },
     "output_type": "display_data"
    }
   ],
   "source": [
    "fig=plt.figure(figsize=(12, 6))\n",
    "axes = plt.gca()\n",
    "#turn the legend off\n",
    "axes.legend_=None\n",
    "\n",
    "#Plot the data\n",
    "#solid line with markers off\n",
    "axes.plot_date(dates, ldata['livetime'], color='rebeccapurple',\n",
    "               linestyle='solid',linewidth=2,marker=\"\",drawstyle='steps')\n",
    "\n",
    "# #So timerange matches data exactly\n",
    "mint='2018-09-28 18:47:30'\n",
    "maxt='2018-09-28 18:50:30'\n",
    "axes.set_xlabel(\"Start Time \"+mint)\n",
    "min_date=matplotlib.dates.datestr2num(mint)\n",
    "max_date=matplotlib.dates.datestr2num(maxt)\n",
    "axes.set_xlim([min_date,max_date])\n",
    "# axes.set_xlim([min(dates),max(dates)])\n",
    "axes.set_ylabel('Livetime')\n",
    "axes.set_ylim([2e-2,1.])\n",
    "axes.set_yscale('log')\n",
    "\n",
    "#Specifies the format of the time date labels\n",
    "formatter = matplotlib.dates.DateFormatter('%H:%M:%S')\n",
    "axes.xaxis.set_major_formatter(formatter)\n",
    "\n",
    "plt.show()"
   ]
  },
  {
   "cell_type": "code",
   "execution_count": 6,
   "metadata": {},
   "outputs": [],
   "source": [
    "# # # # # # # # # # # # # # # # # # # # # # # # # # # # # # # # # # # # \n",
    "# # # # # # # # # # # # # # # # # # # # # # # # # # # # # # # # # # # # \n",
    "# # # # # # # # # # # # # # # # # # # # # # # # # # # # # # # # # # # # \n",
    "# # # # # # # # # # # # # # # # # # # # # # # # # # # # # # # # # # # # "
   ]
  },
  {
   "cell_type": "code",
   "execution_count": 7,
   "metadata": {},
   "outputs": [
    {
     "name": "stdout",
     "output_type": "stream",
     "text": [
      "['TIME', 'CHUQ', 'SEQUENCE', 'CORR', 'CHUID', 'HIRATE', 'BBO', 'TIMEREF', 'VALID', 'RESIDUAL', 'LOCKS', 'OBJECTS', 'STARSFAIL', 'AGCFLOOR', 'AGCCEIL']\n",
      "['2018-09-28T18:47:48.000' '2018-09-28T18:47:49.000'\n",
      " '2018-09-28T18:47:50.000' '2018-09-28T18:47:51.000'\n",
      " '2018-09-28T18:47:52.000' '2018-09-28T18:47:53.000'\n",
      " '2018-09-28T18:47:54.000' '2018-09-28T18:47:55.000'\n",
      " '2018-09-28T18:47:56.000' '2018-09-28T18:47:57.000']\n"
     ]
    }
   ],
   "source": [
    "# Load in the CHU file\n",
    "clist = fits.open(dirin+chufile)\n",
    "# clist.info()\n",
    "cdata1=clist[1].data\n",
    "cdata2=clist[2].data\n",
    "cdata3=clist[3].data\n",
    "chdr = clist[1].header\n",
    "# What are the column names of the livetime file (ldata) ?\n",
    "print(clist[1].columns.names)\n",
    "clist.close()\n",
    "\n",
    "mjdref=astropy.time.Time(chdr['mjdrefi'],format='mjd')\n",
    "ctims=astropy.time.Time(mjdref+cdata3['time']*u.s,format='mjd')\n",
    "print(ltims.isot[0:10])\n",
    "\n",
    "# Convert to format matplotlib can handle\n",
    "# So going astropytime -> datetime -> matplotlibdates\n",
    "cdates = matplotlib.dates.date2num(ctims.datetime)\n"
   ]
  },
  {
   "cell_type": "code",
   "execution_count": 8,
   "metadata": {},
   "outputs": [],
   "source": [
    "# I think this is correct to work out the CHU mask\n",
    "#  Based on the IDL code ../idl/load_nschu.pro\n",
    "# Just assinging 1 if in CHU1, 4 if in CHU2, 9 if in CHU3\n",
    "# Also a value of 5=> CHU12, 10 => CHU13, 14 => CHU123 etc.....\n",
    "maxres=20\n",
    "\n",
    "c1mask=np.all([[cdata1['valid'] == 1],[cdata1['residual'] < maxres],\\\n",
    "              [cdata1['starsfail'] < cdata1['objects']],[cdata1['chuq'][:,3] != 1]],axis=0)\n",
    "# These give True or Flase back so multiplying by number gives number or 0\n",
    "c1mask=c1mask[0]*1\n",
    "\n",
    "c2mask=np.all([[cdata2['valid'] == 1],[cdata2['residual'] < maxres],\\\n",
    "              [cdata2['starsfail'] < cdata2['objects']],[cdata2['chuq'][:,3] != 1]],axis=0)\n",
    "c2mask=(c2mask[0]*4)\n",
    "\n",
    "c3mask=np.all([[cdata3['valid'] == 1],[cdata3['residual'] < maxres],\\\n",
    "              [cdata3['starsfail'] < cdata3['objects']],[cdata3['chuq'][:,3] != 1]],axis=0)\n",
    "c3mask=(c3mask[0]*9)\n",
    "\n",
    "mask=c1mask+c2mask+c3mask\n",
    "# print(mask)\n",
    "\n",
    "# Tweak the mask labelling to make plotting easier\n",
    "# Maybe not the best way of doing this....\n",
    "newmask=np.zeros(len(mask))\n",
    "newmask[np.where(mask ==1)]=1\n",
    "newmask[np.where(mask ==4)]=2\n",
    "newmask[np.where(mask ==5)]=3\n",
    "newmask[np.where(mask ==9)]=4\n",
    "newmask[np.where(mask ==10)]=5\n",
    "newmask[np.where(mask ==13)]=6\n",
    "newmask[np.where(mask ==14)]=7\n",
    "\n",
    "# print(newmask)\n"
   ]
  },
  {
   "cell_type": "code",
   "execution_count": 9,
   "metadata": {},
   "outputs": [
    {
     "data": {
      "image/png": "[encoded data removed]",
      "text/plain": [
       "<Figure size 864x432 with 1 Axes>"
      ]
     },
     "metadata": {
      "needs_background": "light"
     },
     "output_type": "display_data"
    }
   ],
   "source": [
    "fig=plt.figure(figsize=(12, 6))\n",
    "axes = plt.gca()\n",
    "#turn the legend off\n",
    "axes.legend_=None\n",
    "\n",
    "#Plot the data\n",
    "#solid line with markers off\n",
    "axes.plot_date(cdates, newmask, color='sienna',linewidth=2,marker='+')\n",
    "\n",
    "# #So timerange matches data exactly\n",
    "mint='2018-09-28 18:47:30'\n",
    "maxt='2018-09-28 18:50:30'\n",
    "axes.set_xlabel(\"Start Time \"+mint)\n",
    "min_date=matplotlib.dates.datestr2num(mint)\n",
    "max_date=matplotlib.dates.datestr2num(maxt)\n",
    "axes.set_xlim([min_date,max_date])\n",
    "# axes.set_xlim([min(dates),max(dates)])\n",
    "axes.set_yticklabels([' ','1','2','12','3','13','23','123',' '])\n",
    "axes.set_ylabel('CHU State')\n",
    "axes.set_ylim([0,8])\n",
    "\n",
    "#Specifies the format of the time date labels\n",
    "formatter = matplotlib.dates.DateFormatter('%H:%M:%S')\n",
    "axes.xaxis.set_major_formatter(formatter)\n",
    "\n",
    "plt.show()"
   ]
  }
 ],
 "metadata": {
  "kernelspec": {
   "display_name": "Python 3",
   "language": "python",
   "name": "python3"
  },
  "language_info": {
   "codemirror_mode": {
    "name": "ipython",
    "version": 3
   },
   "file_extension": ".py",
   "mimetype": "text/x-python",
   "name": "python",
   "nbconvert_exporter": "python",
   "pygments_lexer": "ipython3",
   "version": "3.8.3"
  }
 },
 "nbformat": 4,
 "nbformat_minor": 4
}
